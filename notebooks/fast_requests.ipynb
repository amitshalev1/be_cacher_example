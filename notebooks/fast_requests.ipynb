{
 "cells": [
  {
   "cell_type": "code",
   "execution_count": 9,
   "metadata": {},
   "outputs": [
    {
     "name": "stdout",
     "output_type": "stream",
     "text": [
      "\u001b[33mDEPRECATION: Python 2.7 will reach the end of its life on January 1st, 2020. Please upgrade your Python as Python 2.7 won't be maintained after that date. A future version of pip will drop support for Python 2.7. More details about Python 2 support in pip, can be found at https://pip.pypa.io/en/latest/development/release-process/#python-2-support\u001b[0m\n",
      "Collecting git+https://github.com/amitshalev1/miscellaneous.git\n",
      "  Cloning https://github.com/amitshalev1/miscellaneous.git to /tmp/pip-req-build-h_Z19I\n",
      "  Running command git clone -q https://github.com/amitshalev1/miscellaneous.git /tmp/pip-req-build-h_Z19I\n",
      "Building wheels for collected packages: utill\n",
      "  Building wheel for utill (setup.py) ... \u001b[?25ldone\n",
      "\u001b[?25h  Created wheel for utill: filename=utill-0.0.1-cp27-none-any.whl size=4678 sha256=3126f8449b78fdfbe289dd9053859e0fd5723865e100e6de40feacb67fb5c3c9\n",
      "  Stored in directory: /tmp/pip-ephem-wheel-cache-sW9k1O/wheels/65/51/75/be913adb962bba4a8eb7046d5e47e3d635cfde4fdeee8f946e\n",
      "Successfully built utill\n",
      "Installing collected packages: utill\n",
      "  Found existing installation: utill 0.0.1\n",
      "    Uninstalling utill-0.0.1:\n",
      "      Successfully uninstalled utill-0.0.1\n",
      "Successfully installed utill-0.0.1\n",
      "\u001b[33mWARNING: You are using pip version 19.2.1, however version 19.2.3 is available.\n",
      "You should consider upgrading via the 'pip install --upgrade pip' command.\u001b[0m\n"
     ]
    }
   ],
   "source": [
    "!pip install git+https://github.com/amitshalev1/miscellaneous.git --no-cache-dir --upgrade"
   ]
  },
  {
   "cell_type": "code",
   "execution_count": 12,
   "metadata": {},
   "outputs": [],
   "source": [
    "from fast_requests import api_get"
   ]
  },
  {
   "cell_type": "code",
   "execution_count": 13,
   "metadata": {},
   "outputs": [],
   "source": [
    "base1=\"https://www.agri-net.org.il/api/\"\n",
    "base2='https://eutils.ncbi.nlm.nih.gov/entrez/eutils/'"
   ]
  },
  {
   "cell_type": "code",
   "execution_count": null,
   "metadata": {},
   "outputs": [],
   "source": []
  }
 ],
 "metadata": {
  "kernelspec": {
   "display_name": "Python 2",
   "language": "python",
   "name": "python2"
  },
  "language_info": {
   "codemirror_mode": {
    "name": "ipython",
    "version": 2
   },
   "file_extension": ".py",
   "mimetype": "text/x-python",
   "name": "python",
   "nbconvert_exporter": "python",
   "pygments_lexer": "ipython2",
   "version": "2.7.5"
  }
 },
 "nbformat": 4,
 "nbformat_minor": 2
}
